{
 "cells": [
  {
   "cell_type": "markdown",
   "metadata": {},
   "source": [
    "GDP affect life expectancy \n",
    "This project will investigate if there is a strong correlation between a country's economic output and its citizens' life expectancy.\n",
    "The goals are to prepare data, followed by analysis with plots, and seek to explain the findings from the study.\n",
    "Here are a few questions that this project will seek to answer:\n",
    "+ Has life expectancy increased over time in the six nations?\n",
    "+ Has GDP increased over time in the six nations?\n",
    "+ Is there a correlation between GDP and the life expectancy of a country?\n",
    "\n",
    "GDP is the total monetary or market value of all the finished goods and services produced within a country's borders in a specific time period. It serves as a comprehensive scorecard of a country's economic health.\n",
    "Data sources\n",
    "GDP Source: World Bank (https://data.worldbank.org/indicator/NY.GDP.MKTP.CD) national accounts data, and OECD National Accounts data files.\n",
    "Life expectancy Data Source: World Health Organization (http://apps.who.int/gho/data/node.main.688)\n",
    "\n",
    "Exploratory Plots\n",
    "The first plot is Life Expectancy and all of the countries except for Zimbabwe have values in the mid-70s.\n",
    "The next plot is GDP and all here we see the absolute champion is the USA but Life expectancy differs not that much. Even Chile which varies too much in GDP has the same Life Expectancy\n",
    "Next, the data will explore `GDP` and `LEABY` over the years through line charts. Below the countries are separated by colors and divided into 2 groups by median GDP to visually see the progress of Countries that have too low GDP. China increased its GDP and went from less than a quarter trillion dollars to one trillion dollars in the time span. The rest of the countries did not see increases in this magnitude.\n",
    "chart3Another aspect that was looked more into depth was the faceted line charts by Country. In the individual plots, each country has their own y axis, which makes it easier to compare the shape of their GDP over the years without the same scale. This method makes it easier to see that all of the countries have seen increases. In the chart above, the other country's GDP growth looked modest compared to China and the US, but all of the countries did experience growth from the year 2000.\n",
    "The chart below shows now looks at life expectancy over the years. The chart shows that every country has been increasing their life expectancy, but Zimbabwe has seen the greatest increase after a bit of a dip around 2004. the plot below breaks out life expectancy by country. It is apparent that Chile, and Mexico seemed to have dips in their life expectancy around the same time which could be looked into further.\n",
    "The next chart will explore the relationship between GDP and Life Expectancy. In the chart below, it looks like the previous charts where the GDP for Zimbabwe is staying flat, while their life expectancy is going up. For other countries, they seem to exhibit a rise in life expectancy as GDP goes up. The US and China seem to have very similar slopes in their relationship between GDP and life expectancy.\n",
    "We can see that Zimbabwe increased life expectancy the most so Id like to explore it more closely\n",
    "The next chart shows relationships between GDP and Life expectancy and Year. And even when GDP was falling Life expectancy started to rise.\n",
    "\n",
    "Conclusions\n",
    "This project was able to make quite a few data visualizations with the data even though there were only 96 rows and 4 columns.\n",
    "The project was also able to answer some of the questions posed in the beginning:\n",
    "- Has life expectancy increased over time in the six nations?\n",
    "- Yes with Zimbabwe having the greatest increase.\n",
    "- Has GDP increased over time in the six nations?\n",
    "- GDP has also increased for all countries in our list, especially for China.\n",
    "- Is there a correlation between GDP and the life expectancy of a country?\n",
    "- Yes there is a positive correlation between GDP and life expectancy for countries in our list. But there are also more factors to investigate\n",
    "- What is the average life expectancy in these nations?\n",
    "- Average life expectancy was between mid to high 70s for the countries except for Zimbabwe which was 50."
   ]
  },
  {
   "cell_type": "markdown",
   "metadata": {},
   "source": []
  }
 ],
 "metadata": {
  "kernelspec": {
   "display_name": "Python 3",
   "language": "python",
   "name": "python3"
  },
  "language_info": {
   "codemirror_mode": {
    "name": "ipython",
    "version": 3
   },
   "file_extension": ".py",
   "mimetype": "text/x-python",
   "name": "python",
   "nbconvert_exporter": "python",
   "pygments_lexer": "ipython3",
   "version": "3.12.5"
  }
 },
 "nbformat": 4,
 "nbformat_minor": 4
}
